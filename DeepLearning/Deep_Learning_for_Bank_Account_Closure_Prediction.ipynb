{
  "nbformat": 4,
  "nbformat_minor": 0,
  "metadata": {
    "colab": {
      "provenance": [],
      "gpuType": "T4",
      "include_colab_link": true
    },
    "kernelspec": {
      "name": "python3",
      "display_name": "Python 3"
    },
    "language_info": {
      "name": "python"
    },
    "accelerator": "GPU"
  },
  "cells": [
    {
      "cell_type": "markdown",
      "metadata": {
        "id": "view-in-github",
        "colab_type": "text"
      },
      "source": [
        "<a href=\"https://colab.research.google.com/github/ManasaCherukupally1/Projects/blob/main/DeepLearning/Deep_Learning_for_Bank_Account_Closure_Prediction.ipynb\" target=\"_parent\"><img src=\"https://colab.research.google.com/assets/colab-badge.svg\" alt=\"Open In Colab\"/></a>"
      ]
    },
    {
      "cell_type": "markdown",
      "source": [
        "Dataset: https://www.kaggle.com/datasets/shrutimechlearn/churn-modelling/data?select=Churn_Modelling.csv\n",
        "\n",
        "This data set contains details of a bank's customers and the target variable is a binary variable reflecting the fact whether the customer left the bank (closed his account) or he continues to be a customer.\n",
        "\n",
        "**Deep Learning ANN for Bank Account Closure Prediction**"
      ],
      "metadata": {
        "id": "1WtMrd8FKkz8"
      }
    },
    {
      "cell_type": "code",
      "source": [
        "import tensorflow as tf"
      ],
      "metadata": {
        "id": "D2IliGyI62B0"
      },
      "execution_count": 1,
      "outputs": []
    },
    {
      "cell_type": "code",
      "source": [
        "print(tf.__version__)"
      ],
      "metadata": {
        "colab": {
          "base_uri": "https://localhost:8080/"
        },
        "id": "4_fyxUHb7GuH",
        "outputId": "1c15adb5-c123-4093-9ee3-7f9f7097ce16"
      },
      "execution_count": 2,
      "outputs": [
        {
          "output_type": "stream",
          "name": "stdout",
          "text": [
            "2.14.0\n"
          ]
        }
      ]
    },
    {
      "cell_type": "code",
      "source": [
        "# Importing the libraries\n",
        "import numpy as np\n",
        "import matplotlib.pyplot as plt\n",
        "import pandas as pd"
      ],
      "metadata": {
        "id": "LLvV2K-o7KAp"
      },
      "execution_count": 3,
      "outputs": []
    },
    {
      "cell_type": "code",
      "source": [
        "# Importing the dataset\n",
        "dataset = pd.read_csv('/content/Churn_Modelling.csv')\n",
        "print(dataset.head(10))\n",
        "X = dataset.iloc[:, 3:13]\n",
        "y = dataset.iloc[:, 13]"
      ],
      "metadata": {
        "id": "gHRHobkK7Sxn",
        "colab": {
          "base_uri": "https://localhost:8080/"
        },
        "outputId": "ed420c90-53f6-4c8d-ac70-e612355150fe"
      },
      "execution_count": 4,
      "outputs": [
        {
          "output_type": "stream",
          "name": "stdout",
          "text": [
            "   RowNumber  CustomerId   Surname  CreditScore Geography  Gender  Age  \\\n",
            "0          1    15634602  Hargrave          619    France  Female   42   \n",
            "1          2    15647311      Hill          608     Spain  Female   41   \n",
            "2          3    15619304      Onio          502    France  Female   42   \n",
            "3          4    15701354      Boni          699    France  Female   39   \n",
            "4          5    15737888  Mitchell          850     Spain  Female   43   \n",
            "5          6    15574012       Chu          645     Spain    Male   44   \n",
            "6          7    15592531  Bartlett          822    France    Male   50   \n",
            "7          8    15656148    Obinna          376   Germany  Female   29   \n",
            "8          9    15792365        He          501    France    Male   44   \n",
            "9         10    15592389        H?          684    France    Male   27   \n",
            "\n",
            "   Tenure    Balance  NumOfProducts  HasCrCard  IsActiveMember  \\\n",
            "0       2       0.00              1          1               1   \n",
            "1       1   83807.86              1          0               1   \n",
            "2       8  159660.80              3          1               0   \n",
            "3       1       0.00              2          0               0   \n",
            "4       2  125510.82              1          1               1   \n",
            "5       8  113755.78              2          1               0   \n",
            "6       7       0.00              2          1               1   \n",
            "7       4  115046.74              4          1               0   \n",
            "8       4  142051.07              2          0               1   \n",
            "9       2  134603.88              1          1               1   \n",
            "\n",
            "   EstimatedSalary  Exited  \n",
            "0        101348.88       1  \n",
            "1        112542.58       0  \n",
            "2        113931.57       1  \n",
            "3         93826.63       0  \n",
            "4         79084.10       0  \n",
            "5        149756.71       1  \n",
            "6         10062.80       0  \n",
            "7        119346.88       1  \n",
            "8         74940.50       0  \n",
            "9         71725.73       0  \n"
          ]
        }
      ]
    },
    {
      "cell_type": "code",
      "source": [
        "#Create dummy variables\n",
        "geography=pd.get_dummies(X[\"Geography\"],drop_first=True)\n",
        "gender=pd.get_dummies(X['Gender'],drop_first=True)"
      ],
      "metadata": {
        "id": "T2yS0VL67Ufn"
      },
      "execution_count": 5,
      "outputs": []
    },
    {
      "cell_type": "code",
      "source": [
        "## Concatenate the Data Frames\n",
        "\n",
        "X=pd.concat([X,geography,gender],axis=1)\n",
        "\n",
        "## Drop Unnecessary columns\n",
        "X=X.drop(['Geography','Gender'],axis=1)\n",
        "\n",
        "# Splitting the dataset into the Training set and Test set\n",
        "from sklearn.model_selection import train_test_split\n",
        "X_train, X_test, y_train, y_test = train_test_split(X, y, test_size = 0.2, random_state = 0)\n"
      ],
      "metadata": {
        "id": "Co2rxaFR7Wgo"
      },
      "execution_count": 6,
      "outputs": []
    },
    {
      "cell_type": "code",
      "source": [
        "# Feature Scaling\n",
        "from sklearn.preprocessing import StandardScaler\n",
        "sc = StandardScaler()\n",
        "X_train = sc.fit_transform(X_train)\n",
        "X_test = sc.transform(X_test)\n"
      ],
      "metadata": {
        "id": "GNZrZXy37ZLs"
      },
      "execution_count": 7,
      "outputs": []
    },
    {
      "cell_type": "code",
      "source": [
        "#ANN"
      ],
      "metadata": {
        "id": "uwN3bgie7bvT"
      },
      "execution_count": 8,
      "outputs": []
    },
    {
      "cell_type": "code",
      "source": [
        "from tensorflow.keras.models import Sequential\n",
        "from tensorflow.keras.layers import Dense\n",
        "from tensorflow.keras.layers import LeakyReLU,PReLU,ELU\n",
        "from tensorflow.keras.layers import Dropout\n"
      ],
      "metadata": {
        "id": "rL_a7vWu7dj1"
      },
      "execution_count": 9,
      "outputs": []
    },
    {
      "cell_type": "code",
      "source": [
        "# Initialising the ANN\n",
        "classifier = Sequential()"
      ],
      "metadata": {
        "id": "VDJwvrbZ7kj4"
      },
      "execution_count": 10,
      "outputs": []
    },
    {
      "cell_type": "code",
      "source": [
        "# Adding the input layer and the first hidden layer\n",
        "classifier.add(Dense(units=11,activation='relu'))"
      ],
      "metadata": {
        "id": "RSZQrU-g7z4N"
      },
      "execution_count": 11,
      "outputs": []
    },
    {
      "cell_type": "code",
      "source": [
        "# Adding the input layer and the first hidden layer\n",
        "classifier.add(Dense(units=6,activation='relu'))"
      ],
      "metadata": {
        "id": "byszZMvw8RcQ"
      },
      "execution_count": 12,
      "outputs": []
    },
    {
      "cell_type": "code",
      "source": [
        "# Adding the second hidden layer\n",
        "classifier.add(Dense(units=4,activation='relu'))"
      ],
      "metadata": {
        "id": "Mk2slmAX8XUI"
      },
      "execution_count": 13,
      "outputs": []
    },
    {
      "cell_type": "code",
      "source": [
        "# Adding the output layer\n",
        "classifier.add(Dense(units=1,activation='sigmoid'))"
      ],
      "metadata": {
        "id": "N1R_-aet4aJQ"
      },
      "execution_count": 14,
      "outputs": []
    },
    {
      "cell_type": "code",
      "source": [
        "classifier.compile(optimizer='adam',loss='binary_crossentropy',metrics=['accuracy'])"
      ],
      "metadata": {
        "id": "F2udThHo8cFt"
      },
      "execution_count": 15,
      "outputs": []
    },
    {
      "cell_type": "code",
      "source": [
        "model_history=classifier.fit(X_train,y_train,validation_split=0.33,batch_size=10,epochs=50)"
      ],
      "metadata": {
        "colab": {
          "base_uri": "https://localhost:8080/"
        },
        "id": "3qairJAs8fIc",
        "outputId": "2fd31eb9-6974-409e-8768-4a6bef428bf3"
      },
      "execution_count": 16,
      "outputs": [
        {
          "output_type": "stream",
          "name": "stdout",
          "text": [
            "Epoch 1/50\n",
            "536/536 [==============================] - 9s 5ms/step - loss: 0.5164 - accuracy: 0.7940 - val_loss: 0.4582 - val_accuracy: 0.7955\n",
            "Epoch 2/50\n",
            "536/536 [==============================] - 3s 5ms/step - loss: 0.4399 - accuracy: 0.7962 - val_loss: 0.4324 - val_accuracy: 0.7955\n",
            "Epoch 3/50\n",
            "536/536 [==============================] - 3s 5ms/step - loss: 0.4227 - accuracy: 0.7962 - val_loss: 0.4232 - val_accuracy: 0.7955\n",
            "Epoch 4/50\n",
            "536/536 [==============================] - 3s 6ms/step - loss: 0.4112 - accuracy: 0.8020 - val_loss: 0.4148 - val_accuracy: 0.8133\n",
            "Epoch 5/50\n",
            "536/536 [==============================] - 3s 5ms/step - loss: 0.4006 - accuracy: 0.8235 - val_loss: 0.4082 - val_accuracy: 0.8156\n",
            "Epoch 6/50\n",
            "536/536 [==============================] - 3s 5ms/step - loss: 0.3896 - accuracy: 0.8337 - val_loss: 0.3991 - val_accuracy: 0.8243\n",
            "Epoch 7/50\n",
            "536/536 [==============================] - 3s 5ms/step - loss: 0.3806 - accuracy: 0.8425 - val_loss: 0.3903 - val_accuracy: 0.8334\n",
            "Epoch 8/50\n",
            "536/536 [==============================] - 3s 6ms/step - loss: 0.3726 - accuracy: 0.8434 - val_loss: 0.3857 - val_accuracy: 0.8376\n",
            "Epoch 9/50\n",
            "536/536 [==============================] - 3s 6ms/step - loss: 0.3664 - accuracy: 0.8505 - val_loss: 0.3815 - val_accuracy: 0.8413\n",
            "Epoch 10/50\n",
            "536/536 [==============================] - 3s 5ms/step - loss: 0.3624 - accuracy: 0.8546 - val_loss: 0.3778 - val_accuracy: 0.8444\n",
            "Epoch 11/50\n",
            "536/536 [==============================] - 3s 5ms/step - loss: 0.3590 - accuracy: 0.8554 - val_loss: 0.3776 - val_accuracy: 0.8440\n",
            "Epoch 12/50\n",
            "536/536 [==============================] - 3s 5ms/step - loss: 0.3564 - accuracy: 0.8595 - val_loss: 0.3760 - val_accuracy: 0.8432\n",
            "Epoch 13/50\n",
            "536/536 [==============================] - 4s 7ms/step - loss: 0.3541 - accuracy: 0.8619 - val_loss: 0.3744 - val_accuracy: 0.8463\n",
            "Epoch 14/50\n",
            "536/536 [==============================] - 3s 5ms/step - loss: 0.3511 - accuracy: 0.8608 - val_loss: 0.3735 - val_accuracy: 0.8432\n",
            "Epoch 15/50\n",
            "536/536 [==============================] - 3s 5ms/step - loss: 0.3500 - accuracy: 0.8606 - val_loss: 0.3710 - val_accuracy: 0.8474\n",
            "Epoch 16/50\n",
            "536/536 [==============================] - 3s 5ms/step - loss: 0.3482 - accuracy: 0.8638 - val_loss: 0.3739 - val_accuracy: 0.8451\n",
            "Epoch 17/50\n",
            "536/536 [==============================] - 3s 6ms/step - loss: 0.3470 - accuracy: 0.8606 - val_loss: 0.3690 - val_accuracy: 0.8504\n",
            "Epoch 18/50\n",
            "536/536 [==============================] - 3s 5ms/step - loss: 0.3456 - accuracy: 0.8612 - val_loss: 0.3675 - val_accuracy: 0.8474\n",
            "Epoch 19/50\n",
            "536/536 [==============================] - 3s 5ms/step - loss: 0.3443 - accuracy: 0.8621 - val_loss: 0.3678 - val_accuracy: 0.8497\n",
            "Epoch 20/50\n",
            "536/536 [==============================] - 3s 5ms/step - loss: 0.3432 - accuracy: 0.8627 - val_loss: 0.3686 - val_accuracy: 0.8485\n",
            "Epoch 21/50\n",
            "536/536 [==============================] - 3s 5ms/step - loss: 0.3427 - accuracy: 0.8636 - val_loss: 0.3667 - val_accuracy: 0.8497\n",
            "Epoch 22/50\n",
            "536/536 [==============================] - 3s 6ms/step - loss: 0.3419 - accuracy: 0.8610 - val_loss: 0.3650 - val_accuracy: 0.8485\n",
            "Epoch 23/50\n",
            "536/536 [==============================] - 3s 5ms/step - loss: 0.3402 - accuracy: 0.8638 - val_loss: 0.3693 - val_accuracy: 0.8466\n",
            "Epoch 24/50\n",
            "536/536 [==============================] - 3s 5ms/step - loss: 0.3408 - accuracy: 0.8630 - val_loss: 0.3663 - val_accuracy: 0.8504\n",
            "Epoch 25/50\n",
            "536/536 [==============================] - 3s 5ms/step - loss: 0.3391 - accuracy: 0.8647 - val_loss: 0.3643 - val_accuracy: 0.8527\n",
            "Epoch 26/50\n",
            "536/536 [==============================] - 3s 6ms/step - loss: 0.3381 - accuracy: 0.8617 - val_loss: 0.3644 - val_accuracy: 0.8508\n",
            "Epoch 27/50\n",
            "536/536 [==============================] - 3s 5ms/step - loss: 0.3383 - accuracy: 0.8632 - val_loss: 0.3644 - val_accuracy: 0.8489\n",
            "Epoch 28/50\n",
            "536/536 [==============================] - 3s 5ms/step - loss: 0.3371 - accuracy: 0.8619 - val_loss: 0.3653 - val_accuracy: 0.8493\n",
            "Epoch 29/50\n",
            "536/536 [==============================] - 3s 5ms/step - loss: 0.3365 - accuracy: 0.8645 - val_loss: 0.3680 - val_accuracy: 0.8504\n",
            "Epoch 30/50\n",
            "536/536 [==============================] - 3s 5ms/step - loss: 0.3364 - accuracy: 0.8647 - val_loss: 0.3665 - val_accuracy: 0.8489\n",
            "Epoch 31/50\n",
            "536/536 [==============================] - 4s 7ms/step - loss: 0.3361 - accuracy: 0.8638 - val_loss: 0.3667 - val_accuracy: 0.8497\n",
            "Epoch 32/50\n",
            "536/536 [==============================] - 3s 5ms/step - loss: 0.3356 - accuracy: 0.8623 - val_loss: 0.3638 - val_accuracy: 0.8512\n",
            "Epoch 33/50\n",
            "536/536 [==============================] - 3s 5ms/step - loss: 0.3351 - accuracy: 0.8636 - val_loss: 0.3658 - val_accuracy: 0.8504\n",
            "Epoch 34/50\n",
            "536/536 [==============================] - 3s 5ms/step - loss: 0.3341 - accuracy: 0.8634 - val_loss: 0.3669 - val_accuracy: 0.8519\n",
            "Epoch 35/50\n",
            "536/536 [==============================] - 3s 6ms/step - loss: 0.3349 - accuracy: 0.8642 - val_loss: 0.3631 - val_accuracy: 0.8516\n",
            "Epoch 36/50\n",
            "536/536 [==============================] - 3s 5ms/step - loss: 0.3345 - accuracy: 0.8627 - val_loss: 0.3628 - val_accuracy: 0.8535\n",
            "Epoch 37/50\n",
            "536/536 [==============================] - 3s 5ms/step - loss: 0.3345 - accuracy: 0.8649 - val_loss: 0.3647 - val_accuracy: 0.8512\n",
            "Epoch 38/50\n",
            "536/536 [==============================] - 3s 5ms/step - loss: 0.3338 - accuracy: 0.8642 - val_loss: 0.3651 - val_accuracy: 0.8523\n",
            "Epoch 39/50\n",
            "536/536 [==============================] - 3s 6ms/step - loss: 0.3324 - accuracy: 0.8649 - val_loss: 0.3667 - val_accuracy: 0.8497\n",
            "Epoch 40/50\n",
            "536/536 [==============================] - 3s 5ms/step - loss: 0.3327 - accuracy: 0.8666 - val_loss: 0.3666 - val_accuracy: 0.8489\n",
            "Epoch 41/50\n",
            "536/536 [==============================] - 3s 5ms/step - loss: 0.3324 - accuracy: 0.8677 - val_loss: 0.3631 - val_accuracy: 0.8531\n",
            "Epoch 42/50\n",
            "536/536 [==============================] - 3s 5ms/step - loss: 0.3320 - accuracy: 0.8651 - val_loss: 0.3642 - val_accuracy: 0.8508\n",
            "Epoch 43/50\n",
            "536/536 [==============================] - 2s 5ms/step - loss: 0.3312 - accuracy: 0.8662 - val_loss: 0.3628 - val_accuracy: 0.8523\n",
            "Epoch 44/50\n",
            "536/536 [==============================] - 3s 6ms/step - loss: 0.3312 - accuracy: 0.8645 - val_loss: 0.3627 - val_accuracy: 0.8489\n",
            "Epoch 45/50\n",
            "536/536 [==============================] - 3s 5ms/step - loss: 0.3320 - accuracy: 0.8643 - val_loss: 0.3641 - val_accuracy: 0.8531\n",
            "Epoch 46/50\n",
            "536/536 [==============================] - 3s 5ms/step - loss: 0.3309 - accuracy: 0.8636 - val_loss: 0.3658 - val_accuracy: 0.8493\n",
            "Epoch 47/50\n",
            "536/536 [==============================] - 3s 5ms/step - loss: 0.3303 - accuracy: 0.8638 - val_loss: 0.3637 - val_accuracy: 0.8516\n",
            "Epoch 48/50\n",
            "536/536 [==============================] - 3s 6ms/step - loss: 0.3309 - accuracy: 0.8645 - val_loss: 0.3638 - val_accuracy: 0.8478\n",
            "Epoch 49/50\n",
            "536/536 [==============================] - 3s 5ms/step - loss: 0.3305 - accuracy: 0.8656 - val_loss: 0.3631 - val_accuracy: 0.8493\n",
            "Epoch 50/50\n",
            "536/536 [==============================] - 3s 5ms/step - loss: 0.3298 - accuracy: 0.8649 - val_loss: 0.3641 - val_accuracy: 0.8485\n"
          ]
        }
      ]
    },
    {
      "cell_type": "code",
      "source": [
        "# list all data in history\n",
        "\n",
        "print(model_history.history.keys())"
      ],
      "metadata": {
        "colab": {
          "base_uri": "https://localhost:8080/"
        },
        "id": "Q9t_M4wICTTz",
        "outputId": "4ba2bc63-bb92-41c8-c72e-a7a0af24fad8"
      },
      "execution_count": 17,
      "outputs": [
        {
          "output_type": "stream",
          "name": "stdout",
          "text": [
            "dict_keys(['loss', 'accuracy', 'val_loss', 'val_accuracy'])\n"
          ]
        }
      ]
    },
    {
      "cell_type": "code",
      "source": [
        "\n",
        "# summarize history for accuracy\n",
        "plt.plot(model_history.history['accuracy'])\n",
        "plt.plot(model_history.history['val_accuracy'])\n",
        "plt.title('model accuracy')\n",
        "plt.ylabel('accuracy')\n",
        "plt.xlabel('epoch')\n",
        "plt.legend(['train', 'test'], loc='upper left')\n",
        "plt.show()"
      ],
      "metadata": {
        "colab": {
          "base_uri": "https://localhost:8080/",
          "height": 472
        },
        "id": "MMOyiwzgBlLY",
        "outputId": "bac9bb1f-e372-4908-9d54-f845b6e8baeb"
      },
      "execution_count": 18,
      "outputs": [
        {
          "output_type": "display_data",
          "data": {
            "text/plain": [
              "<Figure size 640x480 with 1 Axes>"
            ],
            "image/png": "[encoded data removed]"
          },
          "metadata": {}
        }
      ]
    },
    {
      "cell_type": "code",
      "source": [
        "# summarize history for loss\n",
        "plt.plot(model_history.history['loss'])\n",
        "plt.plot(model_history.history['val_loss'])\n",
        "plt.title('model loss')\n",
        "plt.ylabel('loss')\n",
        "plt.xlabel('epoch')\n",
        "plt.legend(['train', 'test'], loc='upper left')\n",
        "plt.show()"
      ],
      "metadata": {
        "colab": {
          "base_uri": "https://localhost:8080/",
          "height": 472
        },
        "id": "QH141RsQCEr0",
        "outputId": "471a5f9c-9723-4d53-a659-9950a2ffd5b4"
      },
      "execution_count": 19,
      "outputs": [
        {
          "output_type": "display_data",
          "data": {
            "text/plain": [
              "<Figure size 640x480 with 1 Axes>"
            ],
            "image/png": "[encoded data removed]"
          },
          "metadata": {}
        }
      ]
    },
    {
      "cell_type": "code",
      "source": [
        "# Part 3 - Making the predictions and evaluating the model\n",
        "\n",
        "# Predicting the Test set results\n",
        "y_pred = classifier.predict(X_test)\n",
        "y_pred = (y_pred > 0.5)"
      ],
      "metadata": {
        "id": "OYqCIIkDCd8S",
        "colab": {
          "base_uri": "https://localhost:8080/"
        },
        "outputId": "dcb707cb-108b-4ef4-b654-d41a1707f18e"
      },
      "execution_count": 20,
      "outputs": [
        {
          "output_type": "stream",
          "name": "stdout",
          "text": [
            "63/63 [==============================] - 0s 2ms/step\n"
          ]
        }
      ]
    },
    {
      "cell_type": "code",
      "source": [
        "# Making the Confusion Matrix\n",
        "from sklearn.metrics import confusion_matrix\n",
        "cm = confusion_matrix(y_test, y_pred)\n",
        "cm"
      ],
      "metadata": {
        "colab": {
          "base_uri": "https://localhost:8080/"
        },
        "id": "cm3EeOGTCi3-",
        "outputId": "26eade44-e73f-47b6-d4c6-30a1f89a9ce3"
      },
      "execution_count": 21,
      "outputs": [
        {
          "output_type": "execute_result",
          "data": {
            "text/plain": [
              "array([[1482,  113],\n",
              "       [ 188,  217]])"
            ]
          },
          "metadata": {},
          "execution_count": 21
        }
      ]
    },
    {
      "cell_type": "code",
      "source": [
        "# Calculate the Accuracy\n",
        "from sklearn.metrics import accuracy_score\n",
        "score=accuracy_score(y_pred,y_test)"
      ],
      "metadata": {
        "id": "FgfRKzzOClmP"
      },
      "execution_count": 22,
      "outputs": []
    },
    {
      "cell_type": "code",
      "source": [
        "score"
      ],
      "metadata": {
        "colab": {
          "base_uri": "https://localhost:8080/"
        },
        "id": "a_C5EETrCpSj",
        "outputId": "cf267ca6-506f-4f92-f8b2-600759073e53"
      },
      "execution_count": 23,
      "outputs": [
        {
          "output_type": "execute_result",
          "data": {
            "text/plain": [
              "0.8495"
            ]
          },
          "metadata": {},
          "execution_count": 23
        }
      ]
    },
    {
      "cell_type": "code",
      "source": [],
      "metadata": {
        "id": "UTvHAjYWCqWx"
      },
      "execution_count": 23,
      "outputs": []
    }
  ]
}